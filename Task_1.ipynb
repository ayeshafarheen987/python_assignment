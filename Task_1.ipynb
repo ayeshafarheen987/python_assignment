{
 "cells": [
  {
   "cell_type": "markdown",
   "id": "1fb753c3-0638-413c-a0de-7ea0b28567e4",
   "metadata": {},
   "source": [
    "# Programming Task - 1 (Basic Python Programming)"
   ]
  },
  {
   "cell_type": "markdown",
   "id": "ca7a821b-d7de-4296-af7b-611d7f5cef12",
   "metadata": {},
   "source": [
    "### 1- problem statement"
   ]
  },
  {
   "cell_type": "code",
   "execution_count": 4,
   "id": "66e2c10a-5a84-4364-afc1-190763c360ee",
   "metadata": {},
   "outputs": [
    {
     "name": "stdout",
     "output_type": "stream",
     "text": [
      "Hello, World!\n"
     ]
    }
   ],
   "source": [
    "#print(\"Hello, World!\")\n",
    "\n",
    "\n",
    "print(\"Hello, World!\")\n"
   ]
  },
  {
   "cell_type": "markdown",
   "id": "e24f13fd-2a17-4fa7-8530-dd4255d58cad",
   "metadata": {},
   "source": [
    "### 2-problem statement [python if-else]"
   ]
  },
  {
   "cell_type": "code",
   "execution_count": 11,
   "id": "00b5bb85-26c5-4617-bb3b-fa63b0a495ca",
   "metadata": {},
   "outputs": [
    {
     "name": "stdin",
     "output_type": "stream",
     "text": [
      " 11\n"
     ]
    },
    {
     "name": "stdout",
     "output_type": "stream",
     "text": [
      "Weird\n"
     ]
    }
   ],
   "source": [
    "#Given an integer,n , perform the following conditional actions:\n",
    "#If n is odd, print Weird\n",
    "#If n is even and in the inclusive range of 2 to 5, print Not Weird\n",
    "#If n is even and in the inclusive range of 6 to 20, print Weird\n",
    "#If n is even and greater than 20 , print Not Weird\n",
    "\n",
    "\n",
    "\n",
    "if __name__ == '__main__':\n",
    "    n = int(input().strip())\n",
    "if n%2==1 :\n",
    "    print('Weird')\n",
    "elif n%2==0 and (n>=2 and n<=5):\n",
    "    print('Not Weird')\n",
    "elif n%2==0 and (n>=6 and n<=20):\n",
    "    print('Weird')\n",
    "else:\n",
    "    print('Not Weird')\n"
   ]
  },
  {
   "cell_type": "markdown",
   "id": "88593078-a69b-48d5-957d-e646b24e0fcd",
   "metadata": {},
   "source": [
    "### 3- Problem statement [Arithmetic operators]"
   ]
  },
  {
   "cell_type": "code",
   "execution_count": 12,
   "id": "56d3a374-1f4b-4058-bb58-c08d98f327bd",
   "metadata": {},
   "outputs": [
    {
     "name": "stdin",
     "output_type": "stream",
     "text": [
      " 6\n",
      " 7\n"
     ]
    },
    {
     "name": "stdout",
     "output_type": "stream",
     "text": [
      "13\n",
      "-1\n",
      "42\n"
     ]
    }
   ],
   "source": [
    "#The provided code stub reads two integers from STDIN, a and b. Add code to print three lines where:\n",
    "\n",
    "#The first line contains the sum of the two numbers.\n",
    "#The second line contains the difference of the two numbers (first - second).\n",
    "#The third line contains the product of the two numbers.\n",
    "\n",
    "if __name__ == '__main__':\n",
    "    a = int(input())\n",
    "    b = int(input())\n",
    "    print(a+b)\n",
    "    print(a-b)\n",
    "    print(a*b)\n"
   ]
  },
  {
   "cell_type": "markdown",
   "id": "a65e45bc-2044-4f1a-91ca-df1c51bbe6f3",
   "metadata": {},
   "source": [
    "### 4-Problem statement [python:Division]"
   ]
  },
  {
   "cell_type": "code",
   "execution_count": 14,
   "id": "9bc298e1-bf9d-4052-970e-ebb4054ab29c",
   "metadata": {},
   "outputs": [
    {
     "name": "stdin",
     "output_type": "stream",
     "text": [
      " 5\n",
      " 8\n"
     ]
    },
    {
     "name": "stdout",
     "output_type": "stream",
     "text": [
      "0\n",
      "0.625\n"
     ]
    }
   ],
   "source": [
    "#The provided code stub reads two integers, a and b, from STDIN.\n",
    "\n",
    "#Add logic to print two lines.\n",
    "#The first line should contain the result of integer division, a //b . \n",
    "#The second line should contain the result of float division, a /b .\n",
    "#No rounding or formatting is necessary.\n",
    "\n",
    "if __name__ == '__main__':\n",
    "    a = int(input())\n",
    "    b = int(input())\n",
    "    print(a//b)\n",
    "    print(a/b)\n"
   ]
  },
  {
   "cell_type": "markdown",
   "id": "2356eb9d-3f66-4946-b0ed-ae2069fe9551",
   "metadata": {},
   "source": [
    "### 5-Problem statement [Loop]"
   ]
  },
  {
   "cell_type": "code",
   "execution_count": 15,
   "id": "1575f40b-c09f-498d-865d-76ad3878cc6b",
   "metadata": {},
   "outputs": [
    {
     "name": "stdin",
     "output_type": "stream",
     "text": [
      " 5\n"
     ]
    },
    {
     "name": "stdout",
     "output_type": "stream",
     "text": [
      "0\n",
      "1\n",
      "4\n",
      "9\n",
      "16\n"
     ]
    }
   ],
   "source": [
    "#The provided code stub reads and integer,n , from STDIN. For all non-negative integers i<n, print i**2.\n",
    "\n",
    "if __name__ == '__main__':\n",
    "    n = int(input())\n",
    "    for i in range(n):\n",
    "        print(i*i)\n"
   ]
  },
  {
   "cell_type": "markdown",
   "id": "fff86418-7a11-4fda-bc0d-79875724092e",
   "metadata": {},
   "source": [
    "### 6-Problem statement [Write a function]"
   ]
  },
  {
   "cell_type": "code",
   "execution_count": 23,
   "id": "a6d9288f-d66d-4596-b3c2-d3af324e1063",
   "metadata": {},
   "outputs": [
    {
     "name": "stdin",
     "output_type": "stream",
     "text": [
      " 2012\n"
     ]
    },
    {
     "name": "stdout",
     "output_type": "stream",
     "text": [
      "True\n"
     ]
    }
   ],
   "source": [
    "#Given a year, determine whether it is a leap year. \n",
    "#If it is a leap year, return the Boolean True, otherwise return False.\n",
    "#Note that the code stub provided reads from STDIN and passes arguments to the is_leap function. It is only necessary to complete the is_leap function.\n",
    "\n",
    "def is_leap(year):\n",
    "    leap = False\n",
    "    if year%4==0 and year%100!=0:\n",
    "        leap = True\n",
    "    elif year%400==0:\n",
    "        leap = True\n",
    "    else:\n",
    "        leap =False\n",
    "    \n",
    "    # Write your logic here\n",
    "    \n",
    "    return leap\n",
    "\n",
    "year = int(input())\n",
    "print(is_leap(year))"
   ]
  },
  {
   "cell_type": "markdown",
   "id": "78d54bd0-9e27-4a96-96ca-1598f1e96558",
   "metadata": {},
   "source": [
    "### 7-Problem statement [print function]"
   ]
  },
  {
   "cell_type": "code",
   "execution_count": 24,
   "id": "3defc261-f1ae-4e8d-92d6-71b6972bb5e7",
   "metadata": {},
   "outputs": [
    {
     "name": "stdin",
     "output_type": "stream",
     "text": [
      " 5\n"
     ]
    },
    {
     "name": "stdout",
     "output_type": "stream",
     "text": [
      "12345"
     ]
    }
   ],
   "source": [
    "#Example\n",
    "#n=4\n",
    "#Print the string 1234.\n",
    "#Print the list of integers from 1 through n as a string, without spaces\n",
    "if __name__ == '__main__':\n",
    "    n = int(input())\n",
    "    for i in range(1,n+1):\n",
    "        print(i,end = \"\")\n",
    "        "
   ]
  },
  {
   "cell_type": "code",
   "execution_count": null,
   "id": "874daad4-b0d5-4951-87bc-9e249f38b6d2",
   "metadata": {},
   "outputs": [],
   "source": []
  }
 ],
 "metadata": {
  "kernelspec": {
   "display_name": "Python 3 (ipykernel)",
   "language": "python",
   "name": "python3"
  },
  "language_info": {
   "codemirror_mode": {
    "name": "ipython",
    "version": 3
   },
   "file_extension": ".py",
   "mimetype": "text/x-python",
   "name": "python",
   "nbconvert_exporter": "python",
   "pygments_lexer": "ipython3",
   "version": "3.9.7"
  }
 },
 "nbformat": 4,
 "nbformat_minor": 5
}
