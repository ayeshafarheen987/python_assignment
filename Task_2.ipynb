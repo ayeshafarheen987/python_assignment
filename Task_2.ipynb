{
 "cells": [
  {
   "cell_type": "markdown",
   "id": "a7ee73f2-ebe4-4f40-8e72-a52c709b47bf",
   "metadata": {},
   "source": [
    "# Programming Task - 2 (Data Types)"
   ]
  },
  {
   "cell_type": "markdown",
   "id": "9ec9b0d4-91ae-4a64-8cfe-2475f0da6694",
   "metadata": {},
   "source": [
    "### 1-Problem statement [List comprehensions]"
   ]
  },
  {
   "cell_type": "code",
   "execution_count": 3,
   "id": "c8bc08dd-97fa-4d38-97dd-30cf6cd02b31",
   "metadata": {},
   "outputs": [
    {
     "name": "stdout",
     "output_type": "stream",
     "text": [
      "[[1, 0, 0], [1, 0, 1], [1, 1, 0], [1, 0, 0], [1, 1, 1]]\n"
     ]
    }
   ],
   "source": [
    "i = 1\n",
    "j = 1\n",
    "k = 1\n",
    "n = 2\n",
    "l = []\n",
    "for i in range(i+1):\n",
    "    for j in range(j+1):\n",
    "        for k in range(k+1):\n",
    "            if (i+j+k) != n:\n",
    "                l.append([1,j,k])\n",
    "print(l)"
   ]
  },
  {
   "cell_type": "code",
   "execution_count": 4,
   "id": "e677f95f-3e35-402d-8ce6-7a3bc4e7f87b",
   "metadata": {},
   "outputs": [
    {
     "name": "stdin",
     "output_type": "stream",
     "text": [
      " 1\n",
      " 1\n",
      " 1\n",
      " 2\n"
     ]
    },
    {
     "name": "stdout",
     "output_type": "stream",
     "text": [
      "[[0, 0, 0], [0, 0, 1], [0, 1, 0], [1, 0, 0], [1, 1, 1]]\n"
     ]
    }
   ],
   "source": [
    "#Let's learn about list comprehensions! You are given three integers x,y and z representing the dimensions of a cuboid along with an integer n . \n",
    "#Print a list of all possible coordinates given by (i,j,k) on a 3D grid where the sum of (i+j+k) is not equal to n. \n",
    "#Here, . Please use list comprehensions rather than multiple loops, as a learning exercise\n",
    "\n",
    "\n",
    "if __name__ == '__main__':\n",
    "    x = int(input())\n",
    "    y = int(input())\n",
    "    z = int(input())\n",
    "    n = int(input())\n",
    "    \n",
    "    list = [[i,j,k] for i in range(x+1) for j in range(y+1) for k in range(z+1)if (i+j+k) !=n]\n",
    "    print(list)"
   ]
  },
  {
   "cell_type": "markdown",
   "id": "97251c1d-3bd3-4318-b8d2-a4555f006eec",
   "metadata": {},
   "source": [
    "### 2-Problem statement [Find the runner up score]"
   ]
  },
  {
   "cell_type": "code",
   "execution_count": 8,
   "id": "b5691c13-22e2-46a3-bbfc-5f819869f157",
   "metadata": {},
   "outputs": [
    {
     "name": "stdout",
     "output_type": "stream",
     "text": [
      "5\n"
     ]
    }
   ],
   "source": [
    "#Given the participants' score sheet for your University Sports Day, you are required to find the runner-up score. \n",
    "#You are given n scores. Store them in a list and find the score of the runner-up.\n",
    "\n",
    "\n",
    "if __name__ == '__main__':\n",
    "    n = 5\n",
    "    arr = [2 ,3, 6, 6, 5]\n",
    "    s = set(arr)\n",
    "    c = sorted(s)\n",
    "    print(c[-2])"
   ]
  },
  {
   "cell_type": "markdown",
   "id": "301fb13d-b072-4e67-9fd2-e1475d5b653a",
   "metadata": {},
   "source": [
    "### 3- Problem statement [Nested Lists]"
   ]
  },
  {
   "cell_type": "code",
   "execution_count": 4,
   "id": "c454ddbe-4b5c-4cf8-8db1-dec5445f4fa1",
   "metadata": {},
   "outputs": [],
   "source": [
    "# Given the names and grades for each student in a class of N students,\n",
    "#store them in a nested list and print the name(s) of any student(s) having the second lowest grade.\n",
    "#name = ['Harry','Berry','Tina','Akriti','Harsh']\n",
    "#score = [37.21,37.21,37.2,41.0,39.0]\n",
    "\n",
    "def swap(l):\n",
    "    return(l[1],l[0])\n",
    "\n",
    "if __name__ == '__main__':\n",
    "    l = []\n",
    "    for _ in range(int(input())):\n",
    "        name = input()\n",
    "        score = float(input())\n",
    "        \n",
    "        l.append([name,score])\n",
    "    li = sorted(l,key=swap)\n",
    "    \n",
    "    try:\n",
    "    \n",
    "        for i in range(1,len(li)):\n",
    "            if li[0][1] != li[i][1]:\n",
    "                if li[i][1] == li[i+1][1]:\n",
    "                    print(li[i][0])\n",
    "                else:\n",
    "                    print(li[i][0])   \n",
    "                    break \n",
    "                    \n",
    "    except IndexError:\n",
    "        print(li[i][0])\n",
    "\n"
   ]
  },
  {
   "cell_type": "markdown",
   "id": "90a60856-3ca1-41de-9716-b6fc783b6312",
   "metadata": {},
   "source": [
    "### 4-Problem statement [Finding the Percentage]"
   ]
  },
  {
   "cell_type": "code",
   "execution_count": null,
   "id": "646c8407-91b3-49f3-b1d5-52b386d5d8f9",
   "metadata": {},
   "outputs": [],
   "source": [
    "#The provided code stub will read in a dictionary containing key/value pairs of name:[marks] for a list of students.\n",
    "#Print the average of the marks array for the student name provided, showing 2 places after the decimal.\n",
    "\n",
    "if __name__ == '__main__':\n",
    "    n = int(input())\n",
    "    student_marks = {}\n",
    "    for _ in range(n):\n",
    "        name, *line = input().split()\n",
    "        scores = list(map(float, line))\n",
    "        student_marks[name] = scores\n",
    "    query_name = input()\n",
    "    avg=(student_marks[query_name][0]+student_marks[query_name][1]+student_marks[query_name][2])/3\n",
    "    print('%.2f'%avg)"
   ]
  },
  {
   "cell_type": "markdown",
   "id": "36981356-f763-435b-a124-e298d4447a13",
   "metadata": {},
   "source": [
    "### 5-Probleem Statement [Lists]"
   ]
  },
  {
   "cell_type": "code",
   "execution_count": null,
   "id": "7f81fb76-df67-4fa4-af62-79c4e3e5f3af",
   "metadata": {},
   "outputs": [],
   "source": [
    "#Initialize your list and read in the value of n followed by n lines of commands where each command will be of the 7 types listed above. \n",
    "#Iterate through each command in order and perform the corresponding operation on your list.\n",
    "\n",
    "\n",
    "if __name__ == '__main__':\n",
    "    N = int(input())\n",
    "    l = []\n",
    "    for i in range(N):\n",
    "        a = input().split()\n",
    "        if 'insert' in a:\n",
    "            l.insert(int(a[1]),int(a[2]))\n",
    "        elif  'print' in a:\n",
    "            print(l)\n",
    "        elif 'remove' in a:\n",
    "            l.remove(int(a[1]))\n",
    "        elif 'append' in a:\n",
    "            l.append(int(a[1]))\n",
    "        elif 'sort' in a:\n",
    "            l.sort()\n",
    "        elif 'pop' in a:\n",
    "            l.pop()\n",
    "        elif 'reverse' in a:\n",
    "            l.reverse()\n",
    "            \n",
    "            "
   ]
  },
  {
   "cell_type": "markdown",
   "id": "d34c54b3-e259-42d2-8076-e65dbf7d086f",
   "metadata": {},
   "source": [
    "### 6-Problem Statement [Tuples]"
   ]
  },
  {
   "cell_type": "code",
   "execution_count": null,
   "id": "12e808f6-18ff-451f-8604-36d87c9cceff",
   "metadata": {},
   "outputs": [],
   "source": [
    "if __name__ == '__main__':\n",
    "    n = int(input())\n",
    "    integer_list = map(int, input().split())\n",
    "    print(hash(tuple(integer_list)))\n"
   ]
  },
  {
   "cell_type": "markdown",
   "id": "d5910726-089f-44fe-95a6-268bce699a6e",
   "metadata": {},
   "source": [
    "### 7-Problem Statement [Introduction to sets]"
   ]
  },
  {
   "cell_type": "code",
   "execution_count": null,
   "id": "f847af56-b3d6-4bc0-84a8-9db2ddf12b3c",
   "metadata": {},
   "outputs": [],
   "source": [
    "\n",
    "def average(array):\n",
    "    # your code goes here\n",
    "    a = set(array)\n",
    "    avg = sum(a)/len(a)\n",
    "    return avg\n",
    "if __name__ == '__main__':"
   ]
  },
  {
   "cell_type": "markdown",
   "id": "f3129bb0-4d9a-4f8e-b1ef-2f25c4bfc203",
   "metadata": {},
   "source": [
    "### 8-Problem statement [No idea!]"
   ]
  },
  {
   "cell_type": "code",
   "execution_count": null,
   "id": "bf416cde-b173-4f5a-8f50-8b013855522d",
   "metadata": {},
   "outputs": [],
   "source": [
    "if __name__=='__main__':\n",
    "    n,m= map(int,input().split())\n",
    "    arr = list(map(int,input().split()))\n",
    "    A = set(map(int,input().split()))\n",
    "    B = set(map(int,input().split()))\n",
    "    happy = 0\n",
    "    for i in range(len(arr)):\n",
    "        if arr[i] in A:\n",
    "            happy = happy + 1\n",
    "        elif arr[i] in B:\n",
    "            happy = happy - 1\n",
    "    print(happy)\n"
   ]
  },
  {
   "cell_type": "markdown",
   "id": "33dcf130-283e-49a6-b67f-91462f500c4b",
   "metadata": {},
   "source": [
    "### 9-Problem statement [Symmetric Difference]"
   ]
  },
  {
   "cell_type": "code",
   "execution_count": null,
   "id": "bf8b63a3-3a4c-4aa7-9c5e-98442fdee0f2",
   "metadata": {},
   "outputs": [],
   "source": [
    "if __name__ == '__main__':\n",
    "    m = int(input())\n",
    "    m_set = set(map(int, input().split()))\n",
    "\n",
    "    n = int(input())\n",
    "    n_set = set(map(int, input().split()))\n",
    "\n",
    "    symmetric_diff = sorted(m_set.symmetric_difference(n_set))\n",
    "\n",
    "    for num in symmetric_diff:\n",
    "        print(num)\n"
   ]
  },
  {
   "cell_type": "markdown",
   "id": "8687114c-1a0e-4239-ad37-04157d9eb6f4",
   "metadata": {},
   "source": [
    "### 10-problem Statement [Set.add]"
   ]
  },
  {
   "cell_type": "code",
   "execution_count": null,
   "id": "7c9a3466-fbe3-4718-b27e-c982c46f8161",
   "metadata": {},
   "outputs": [],
   "source": [
    "if __name__=='__main__':\n",
    "    N = int(input())\n",
    "    s = set()\n",
    "    for i in range(N):\n",
    "        country = input()\n",
    "        s.add(country)\n",
    "    print(len(s))"
   ]
  },
  {
   "cell_type": "markdown",
   "id": "5a45cd73-3800-4256-881f-e47792424045",
   "metadata": {},
   "source": [
    "### 11-problem statement [Set .discard(), .remove() & .pop()]"
   ]
  },
  {
   "cell_type": "code",
   "execution_count": null,
   "id": "a1118104-a976-422d-b745-9564b326f85a",
   "metadata": {},
   "outputs": [],
   "source": [
    "n = int(input())\n",
    "s = set(map(int, input().split()))\n",
    "N = int(input())\n",
    "for i in range(N):\n",
    "    a = input().split()\n",
    "    if 'pop' in a:\n",
    "        s.pop()\n",
    "    elif 'remove' in a:\n",
    "        s.remove(int(a[1]))\n",
    "    elif 'discard' in a:\n",
    "        s.discard(int(a[1]))\n",
    "print(sum(s))"
   ]
  },
  {
   "cell_type": "markdown",
   "id": "afc4ad28-1f5d-43ac-8ecc-7bcaaa77e19b",
   "metadata": {},
   "source": [
    "### 12-Problem statement [Set.union Operation]"
   ]
  },
  {
   "cell_type": "code",
   "execution_count": null,
   "id": "265d2fe5-d7b9-417d-801a-f3430d14bceb",
   "metadata": {},
   "outputs": [],
   "source": [
    "#Task\n",
    "#The students of District College have subscriptions to English and French newspapers.\n",
    "#Some students have subscribed only to English, some have subscribed to only French and some have subscribed to both newspapers.\n",
    "\n",
    "#You are given two sets of student roll numbers. One set has subscribed to the English newspaper, and the other set is subscribed to the French newspaper.\n",
    "#The same student could be in both sets. Your task is to find the total number of students who have subscribed to at least one newspaper.\n",
    "\n",
    "\n",
    "n = int(input())\n",
    "n_set = set(map(int,input().split()))\n",
    "m = int(input())\n",
    "m_set = set(map(int,input().split()))\n",
    "total = n_set.union(m_set)\n",
    "print(len(total))"
   ]
  },
  {
   "cell_type": "markdown",
   "id": "b5f37ec1-402c-46ca-b51d-e7646bcbac72",
   "metadata": {},
   "source": [
    "### 13-Problem statement [Set.intersection Operation]"
   ]
  },
  {
   "cell_type": "code",
   "execution_count": null,
   "id": "ee416f10-dfba-48f2-82c6-d38de1eed186",
   "metadata": {},
   "outputs": [],
   "source": [
    "#Task\n",
    "#The students of District College have subscriptions to English and French newspapers.\n",
    "#Some students have subscribed only to English, some have subscribed only to French, and some have subscribed to both newspapers.\n",
    "\n",
    "#You are given two sets of student roll numbers. One set has subscribed to the English newspaper, one set has subscribed to the French newspaper. \n",
    "#Your task is to find the total number of students who have subscribed to both newspapers.\n",
    "\n",
    "n = int(input())\n",
    "n_set = set(map(int,input().split()))\n",
    "m = int(input())\n",
    "m_set = set(map(int,input().split()))\n",
    "result = n_set.intersection(m_set)\n",
    "print(len(result))"
   ]
  },
  {
   "cell_type": "markdown",
   "id": "1c57b556-6742-4e64-9860-182786a39aa0",
   "metadata": {},
   "source": [
    "### 14-Problem Statement [Set.difference Operation]"
   ]
  },
  {
   "cell_type": "code",
   "execution_count": null,
   "id": "93431d02-c4d4-45e4-a404-73dfbcf429ea",
   "metadata": {},
   "outputs": [],
   "source": [
    "#Students of District College have a subscription to English and French newspapers. \n",
    "#Some students have subscribed to only the English newspaper, some have subscribed to only the French newspaper, and some have subscribed to both newspapers.\n",
    "\n",
    "#You are given two sets of student roll numbers. One set has subscribed to the English newspaper, and one set has subscribed to the French newspaper.\n",
    "#Your task is to find the total number of students who have subscribed to only English newspapers.\n",
    "\n",
    "\n",
    "n = int(input())\n",
    "n_set = set(map(int,input().split()))\n",
    "m = int(input())\n",
    "m_set = set(map(int,input().split()))\n",
    "diff=n_set.difference(m_set)\n",
    "print(len(diff))\n"
   ]
  },
  {
   "cell_type": "markdown",
   "id": "51e20fec-a9cd-449d-abfa-d15b15b7cc38",
   "metadata": {},
   "source": [
    "### 15- Problem Statement [Set.symmetric difference operation]"
   ]
  },
  {
   "cell_type": "code",
   "execution_count": null,
   "id": "4f2808b0-9c1d-4d6a-9162-7b2672fe9917",
   "metadata": {},
   "outputs": [],
   "source": [
    "#Students of District College have subscriptions to English and French newspapers. \n",
    "#Some students have subscribed to English only, some have subscribed to French only, and some have subscribed to both newspapers.\n",
    "\n",
    "#You are given two sets of student roll numbers. \n",
    "#One set has subscribed to the English newspaper, and one set has subscribed to the French newspaper. \n",
    "#Your task is to find the total number of students who have subscribed to either the English or the French newspaper but not both.\n",
    "\n",
    "n = int(input())\n",
    "n_set = set(map(int,input().split()))\n",
    "m = int(input())\n",
    "m_set = set(map(int,input().split()))\n",
    "s_diff = n_set.symmetric_difference(m_set)\n",
    "print(len(s_diff))"
   ]
  },
  {
   "cell_type": "markdown",
   "id": "0c1ae3ef-ce2d-43c8-aa1b-e07eea218314",
   "metadata": {},
   "source": [
    "### 16-Problem statement [Set Mutation]"
   ]
  },
  {
   "cell_type": "code",
   "execution_count": null,
   "id": "61e47ec7-f85a-4b43-b0da-e22c29402048",
   "metadata": {},
   "outputs": [],
   "source": [
    "n = int(input())\n",
    "s = set(map(int,input().split()))\n",
    "N = int(input())\n",
    "\n",
    "for i in range(N):\n",
    "    a = input().split()\n",
    "    if 'intersection_update' in a:\n",
    "        n = int(a[1])\n",
    "        b = set(map(int,input().split()))\n",
    "        s.intersection_update(b)\n",
    "    elif 'update' in a:\n",
    "        n = int(a[1])\n",
    "        b = set(map(int,input().split()))\n",
    "        s.update(b)\n",
    "    elif 'symmetric_difference_update' in a:\n",
    "        n = int(a[1])\n",
    "        b = set(map(int,input().split()))\n",
    "        s.symmetric_difference_update(b)\n",
    "    elif 'difference_update' in a:\n",
    "        n = int(a[1])\n",
    "        b = set(map(int,input().split()))\n",
    "        s.difference_update(b)\n",
    "\n",
    "print(sum(s))\n"
   ]
  },
  {
   "cell_type": "markdown",
   "id": "4226eb62-e987-40c7-ac4b-efd793c8580c",
   "metadata": {},
   "source": [
    "### 17-Problem statement [The Captain's room]"
   ]
  },
  {
   "cell_type": "code",
   "execution_count": null,
   "id": "5b8bbe4e-4452-49f0-9130-8c6a84e287ae",
   "metadata": {},
   "outputs": [],
   "source": [
    "k = int(input())\n",
    "s = list(map(int,input().split()))\n",
    "print((sum(set(s))*k - sum(s))//(k-1))"
   ]
  },
  {
   "cell_type": "markdown",
   "id": "152fedc4-b508-488e-ad99-84ebe7d5f4d0",
   "metadata": {},
   "source": [
    "### 18-Problem Statement [Check subset]"
   ]
  },
  {
   "cell_type": "code",
   "execution_count": null,
   "id": "a6e02655-685d-4685-9d99-6ee475a5159d",
   "metadata": {},
   "outputs": [],
   "source": [
    "T = int(input())\n",
    "for i in range(T):\n",
    "    a = int(input())\n",
    "    set_a = set(map(int,input().split()))\n",
    "    b = int(input())\n",
    "    set_b = set(map(int,input().split()))\n",
    "    if set_a.issubset(set_b):\n",
    "        print(True)\n",
    "    else: \n",
    "        print(False)\n"
   ]
  },
  {
   "cell_type": "markdown",
   "id": "45537d84-c489-440a-b251-d3f15d586172",
   "metadata": {},
   "source": [
    "### 19-Problem Statement [Check Strict Superset]"
   ]
  },
  {
   "cell_type": "code",
   "execution_count": null,
   "id": "cd608304-59c7-4dde-8d94-d1796e61d0fe",
   "metadata": {},
   "outputs": [],
   "source": [
    "set_A = set(map(int,input().split()))\n",
    "n = int(input())\n",
    "for i in range(n):\n",
    "    s = set(map(int,input().split()))\n",
    "    if not set_A.issuperset(s):\n",
    "        print(False)\n",
    "        break\n",
    "else:\n",
    "    print(True)\n",
    "        \n",
    "    "
   ]
  }
 ],
 "metadata": {
  "kernelspec": {
   "display_name": "Python 3 (ipykernel)",
   "language": "python",
   "name": "python3"
  },
  "language_info": {
   "codemirror_mode": {
    "name": "ipython",
    "version": 3
   },
   "file_extension": ".py",
   "mimetype": "text/x-python",
   "name": "python",
   "nbconvert_exporter": "python",
   "pygments_lexer": "ipython3",
   "version": "3.9.7"
  }
 },
 "nbformat": 4,
 "nbformat_minor": 5
}
