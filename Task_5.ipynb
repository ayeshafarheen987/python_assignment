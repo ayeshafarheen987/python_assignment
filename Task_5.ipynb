{
 "cells": [
  {
   "cell_type": "markdown",
   "id": "7307f4cc-c58d-4a4e-9563-7932664c40b7",
   "metadata": {},
   "source": [
    "# Programming Task - 5 (RegEx)"
   ]
  },
  {
   "cell_type": "markdown",
   "id": "38969375-5297-4772-9d90-f1a844c88b50",
   "metadata": {},
   "source": [
    "### 1-Problem Statement [Detect Floating Point Number]"
   ]
  },
  {
   "cell_type": "code",
   "execution_count": null,
   "id": "a85bd1d2-2137-458d-9c03-8b93e3b4e667",
   "metadata": {},
   "outputs": [],
   "source": [
    "import re\n",
    "\n",
    "def match(n):\n",
    "    if re.fullmatch('[+-]?[0-9]*\\.[0-9]+',n):\n",
    "        return True\n",
    "    else:\n",
    "        return False\n",
    "    \n",
    "    \n",
    "if __name__=='__main__':\n",
    "    T = int(input())\n",
    "    for i in range(T):\n",
    "        n = input()\n",
    "        print(match(n))"
   ]
  },
  {
   "cell_type": "markdown",
   "id": "4f60ae2d-51a5-4801-bbda-c196ae91cccf",
   "metadata": {},
   "source": [
    "### 2-Problem Statement [Re.split()]"
   ]
  },
  {
   "cell_type": "code",
   "execution_count": null,
   "id": "73f6736c-9dde-4331-a3a7-1cbd275806b6",
   "metadata": {},
   "outputs": [],
   "source": [
    "regex_pattern = r\"[\\,\\.]\"\t# Do not delete 'r'.\n",
    "\n",
    "import re\n",
    "print(\"\\n\".join(re.split(regex_pattern, input())))"
   ]
  },
  {
   "cell_type": "markdown",
   "id": "e3fdfe61-1d68-4bb3-a1be-dc6a97f9a9f5",
   "metadata": {},
   "source": [
    "### 3-Problem Statement [Group(), Groups( ) & Groupdict()]"
   ]
  },
  {
   "cell_type": "code",
   "execution_count": null,
   "id": "cb5d0477-a3cd-4bdc-9519-494673e50af5",
   "metadata": {},
   "outputs": [],
   "source": [
    "import re\n",
    "s = input()\n",
    "m =re.search(r'([a-zA-Z0-9])\\1',s)\n",
    "if m:    \n",
    "    print(m.group(1))\n",
    "else:\n",
    "    print(-1)\n"
   ]
  },
  {
   "cell_type": "markdown",
   "id": "6725df82-06b6-4680-9b63-4ce17a1adefa",
   "metadata": {},
   "source": [
    "### 4-Problem Statement [Re.findall() & Re.finditer()]"
   ]
  },
  {
   "cell_type": "code",
   "execution_count": 3,
   "id": "d5a351e7-fad3-4387-a6c2-0dc8312e98e5",
   "metadata": {},
   "outputs": [
    {
     "name": "stdout",
     "output_type": "stream",
     "text": [
      "ee\n",
      "Ioo\n",
      "Oeo\n",
      "eeeee\n"
     ]
    }
   ],
   "source": [
    "import re\n",
    "s = 'rabcdeefgyYhFjkIoomnpOeorteeeeet'\n",
    "v= s.strip('AEIOUaeiou')\n",
    "m = re.findall('[AEIOUaeiou]{2,}',v)\n",
    "if m:\n",
    "    [print(i) for i in m]\n",
    "else:\n",
    "    print(-1)"
   ]
  },
  {
   "cell_type": "markdown",
   "id": "b3dd1a5b-d3d8-4381-ba2a-9532025c1552",
   "metadata": {},
   "source": [
    "### 5-Problem Statement [Re.start() & Re.end()]"
   ]
  },
  {
   "cell_type": "code",
   "execution_count": 5,
   "id": "e6d0b417-3f4a-4c80-89b6-9b00c4f27381",
   "metadata": {},
   "outputs": [
    {
     "name": "stdin",
     "output_type": "stream",
     "text": [
      " aaadaa\n",
      " aa\n"
     ]
    },
    {
     "name": "stdout",
     "output_type": "stream",
     "text": [
      "(0, 1)\n",
      "(1, 2)\n",
      "(4, 5)\n"
     ]
    }
   ],
   "source": [
    "import re\n",
    "s = input()\n",
    "k = input()\n",
    "pattern = re.compile(k)\n",
    "match = pattern.search(s)\n",
    "if match:\n",
    "    while match:\n",
    "        print((match.start(),match.end()-1))\n",
    "        match = pattern.search(s,match.start()+1)\n",
    "else:\n",
    "    print((-1,-1))"
   ]
  },
  {
   "cell_type": "markdown",
   "id": "bb3cccd1-de8b-4c14-bd3a-31cc78a790d6",
   "metadata": {},
   "source": [
    "### 6-Problem Statement [Regex Substitution]"
   ]
  },
  {
   "cell_type": "code",
   "execution_count": null,
   "id": "3ea12746-b261-42c9-9efd-62a4117305d4",
   "metadata": {},
   "outputs": [],
   "source": [
    "import re\n",
    "\n",
    "def sub(replace):\n",
    "    if replace.group(0) == '&& ':\n",
    "        return 'and '\n",
    "    if replace.group(0) == '|| ':\n",
    "        return 'or '\n",
    "n = int(input())\n",
    "for i in range(n):\n",
    "    result = re.sub('((?<= )\\&\\& )|((?<= )\\|\\| )',sub ,input())\n",
    "    print(result)\n",
    "    \n",
    "    "
   ]
  },
  {
   "cell_type": "markdown",
   "id": "3e3a11e4-07eb-4d28-89d0-cb0337805d79",
   "metadata": {},
   "source": [
    "### 7-Problem Statement [Validating Roman Numerals]"
   ]
  },
  {
   "cell_type": "code",
   "execution_count": null,
   "id": "499f0042-19f7-4ecc-9abb-d534292a76f0",
   "metadata": {},
   "outputs": [],
   "source": [
    "regex_pattern = r\"^M{0,3}(CM|CD|D?C{0,3})(XC|XL|L?X{0,3})(IX|IV|V?I{0,3})$\"\t# Do not delete 'r'.\n",
    "\n",
    "import re\n",
    "print(str(bool(re.match(regex_pattern, input()))))"
   ]
  },
  {
   "cell_type": "markdown",
   "id": "d75a32c4-eb84-4e30-85b4-c10ad6c737d7",
   "metadata": {},
   "source": [
    "### 8-Problem Statement [Validating Phone Numbers]"
   ]
  },
  {
   "cell_type": "code",
   "execution_count": null,
   "id": "e1f60194-c0b4-41cf-8938-b128d8029fdf",
   "metadata": {},
   "outputs": [],
   "source": [
    "import re\n",
    "n = int(input())\n",
    "for i in range(n):\n",
    "    s = input()\n",
    "    regex = '^[789]\\d{9}$'\n",
    "    match = re.match(regex,s)\n",
    "    if match:\n",
    "        print('YES')\n",
    "    else:\n",
    "        print(\"NO\")"
   ]
  },
  {
   "cell_type": "markdown",
   "id": "4f660b46-e186-4e69-8c22-0720b6fa3897",
   "metadata": {},
   "source": [
    "### 9-Problem Statement [Validating and Parsing Email Addresses]"
   ]
  },
  {
   "cell_type": "code",
   "execution_count": null,
   "id": "8dec4713-ecf2-4b00-a859-f187312baaee",
   "metadata": {},
   "outputs": [],
   "source": [
    "import re\n",
    "import email.utils\n",
    "\n",
    "n = int(input())\n",
    "for i in range(n):\n",
    "    s = input()\n",
    "    p = email.utils.parseaddr(s)\n",
    "    regex = re.compile('^[a-zA-Z0-9][\\w\\-.]*@[a-zA-Z]+\\.[a-zA-Z]{1,3}$')\n",
    "    res = regex.search(p[1])\n",
    "    if res:\n",
    "        print(email.utils.formataddr(p))"
   ]
  },
  {
   "cell_type": "markdown",
   "id": "7215c15e-4b87-49ad-976d-9732db5ba718",
   "metadata": {},
   "source": [
    "### 10-Problem Statement [Hex Color Code]"
   ]
  },
  {
   "cell_type": "code",
   "execution_count": null,
   "id": "845f29a5-bba1-4fdb-ab5a-b1cccd23b2d5",
   "metadata": {},
   "outputs": [],
   "source": [
    "import re\n",
    "n = int(input())\n",
    "for i in range(n):\n",
    "    s = input()\n",
    "    regex = re.compile(r\"#[a-fA-F0-9]{6}|#[a-fA-F0-9]{3}\")\n",
    "    result = regex.findall(s)\n",
    "    if (len(result)>0 and s[0]!='#'):\n",
    "        for i in result:\n",
    "            print(i)\n",
    "            \n",
    "    "
   ]
  },
  {
   "cell_type": "markdown",
   "id": "46ec93f1-6e98-41d9-b7ca-c6478dc7edd9",
   "metadata": {},
   "source": [
    "### 11-Problem Statement [HTML Parser - Part 1]"
   ]
  },
  {
   "cell_type": "code",
   "execution_count": null,
   "id": "9ff23c59-a0e3-428e-9bfd-c02d26d001bd",
   "metadata": {},
   "outputs": [],
   "source": [
    "from html.parser import HTMLParser\n",
    "class HTML( HTMLParser):\n",
    "    \n",
    "    def handle_starttag(self, tag, attrs):\n",
    "        print('Start :',tag)\n",
    "        if attrs:\n",
    "            for j in attrs:\n",
    "                print('->',j[0],\">\",j[1])\n",
    "                \n",
    "    def handle_endtag(self, tag):\n",
    "        print('End   :',tag)\n",
    "        \n",
    "    def handle_startendtag(self, tag, attrs):\n",
    "        print('Empty :',tag)\n",
    "        if attrs:\n",
    "            for k in attrs:\n",
    "                print(\"->\",k[0],\">\",k[1])\n",
    "    \n",
    "\n",
    "\n",
    "\n",
    "\n",
    "from html.parser import HTMLParser\n",
    "n = int(input())\n",
    "myParser = HTML()\n",
    "for i in range(n):\n",
    "    myParser.feed(input())\n"
   ]
  },
  {
   "cell_type": "markdown",
   "id": "c0bfddd3-62b8-4e06-b38e-acdb6e48b52b",
   "metadata": {},
   "source": [
    "### 12-Problem Statement [HTML Parser - Part 2]"
   ]
  },
  {
   "cell_type": "code",
   "execution_count": null,
   "id": "df2b789b-894f-4245-95c3-976a7142c0c2",
   "metadata": {},
   "outputs": [],
   "source": [
    "from html.parser import HTMLParser\n",
    "\n",
    "class MyHTMLParser(HTMLParser):\n",
    "    def handle_comment(self, data):\n",
    "        if data == '\\n':\n",
    "            pass  \n",
    "        elif '\\n' in data:\n",
    "            print(\">>> Multi-line Comment\")\n",
    "            print(data)\n",
    "        else:\n",
    "            print(\">>> Single-line Comment\")\n",
    "            print(data)\n",
    "          \n",
    "    def handle_data(self, data):\n",
    "        if data == '\\n':\n",
    "            pass  \n",
    "        else:\n",
    "            print(\">>> Data\")\n",
    "            print(data)\n",
    " \n",
    "  \n",
    "html = \"\"       \n",
    "for i in range(int(input())):\n",
    "    html += input().rstrip()\n",
    "    html += '\\n'\n",
    "    \n",
    "parser = MyHTMLParser()\n",
    "parser.feed(html)\n",
    "parser.close()"
   ]
  },
  {
   "cell_type": "markdown",
   "id": "746ce452-f3c8-4b01-bc7c-57bc18f9566d",
   "metadata": {},
   "source": [
    "### 13-Problem Statement [Detect HTML Tags, Attributes and Attribute Values]"
   ]
  },
  {
   "cell_type": "code",
   "execution_count": null,
   "id": "de7336a2-b0cd-4017-9772-bca9f1edb0a6",
   "metadata": {},
   "outputs": [],
   "source": [
    "from html.parser import HTMLParser\n",
    "class MyHTMLParser(HTMLParser):\n",
    "    def handle_starttag(self, tag, attrs):\n",
    "        print(tag)\n",
    "        if attrs:\n",
    "            for i in attrs:\n",
    "                print(\"->\",i[0],\">\",i[1])\n",
    "        \n",
    "    \n",
    "    \n",
    "n = int(input())\n",
    "parser = MyHTMLParser()\n",
    "for i in range(n):\n",
    "    parser.feed(input())\n",
    "    "
   ]
  },
  {
   "cell_type": "markdown",
   "id": "57a31785-8398-4760-bd89-1f616f95b85d",
   "metadata": {},
   "source": [
    "### 14-Problem Statement [Validating UID]"
   ]
  },
  {
   "cell_type": "code",
   "execution_count": null,
   "id": "ca135235-213e-4f34-95b8-e2438c4088e6",
   "metadata": {},
   "outputs": [],
   "source": [
    "import re\n",
    "n = int(input())\n",
    "for i in range(n):\n",
    "    s = input()\n",
    "    if len(re.findall(r'[A-Z]',s)) >= 2:\n",
    "        if len(re.findall(r'[0-9]', s)) >= 3:\n",
    "            if re.match(r'^[A-Za-z0-9]+$', s):\n",
    "                if  len(re.findall(r'(.).*\\1', s)) == 0:\n",
    "                    if len(s) == 10:\n",
    "                        print('Valid')\n",
    "                        continue\n",
    "    print('Invalid')\n"
   ]
  },
  {
   "cell_type": "markdown",
   "id": "fda3019b-c104-4d26-93c2-2def1556c240",
   "metadata": {},
   "source": [
    "### 15-Problem Statement [Validating Credit Card Numbers]"
   ]
  },
  {
   "cell_type": "code",
   "execution_count": null,
   "id": "9a794c1b-9892-4445-ab38-e8f2291ca073",
   "metadata": {},
   "outputs": [],
   "source": [
    "import re\n",
    "pattern_a = r'([\\d])\\1{1}-?\\1{2}'\n",
    "pattern_b = r'^[456]\\d{3}-?\\d{4}-?\\d{4}-?\\d{4}-?'\n",
    "n = int(input())\n",
    "for i in range(n):\n",
    "    string = input()\n",
    "    if not bool(re.fullmatch(pattern_b,string)):\n",
    "        print ('Invalid')\n",
    "    elif bool(re.search(pattern_a, string)):\n",
    "        print ('Invalid')\n",
    "    else:\n",
    "        print ('Valid')"
   ]
  },
  {
   "cell_type": "markdown",
   "id": "83994acd-78eb-4f1d-b9a3-ff5ebbe8f8aa",
   "metadata": {},
   "source": [
    "### 16-Problem Statement [Validating Postal Codes]"
   ]
  },
  {
   "cell_type": "code",
   "execution_count": null,
   "id": "38ac5a05-9a5e-4cc3-ad9b-2d579aceb62a",
   "metadata": {},
   "outputs": [],
   "source": [
    "regex_integer_in_range = r\"^[1-9][0-9]{5}$\"\t# Do not delete 'r'.\n",
    "regex_alternating_repetitive_digit_pair = r\"(?=((\\d).\\2))\"\t# Do not delete 'r'.\n",
    "\n",
    "\n",
    "\n",
    "import re\n",
    "P = input()\n",
    "\n",
    "print (bool(re.match(regex_integer_in_range, P)) \n",
    "and len(re.findall(regex_alternating_repetitive_digit_pair, P)) < 2)"
   ]
  },
  {
   "cell_type": "markdown",
   "id": "7ea4aaf5-2082-45f3-acd3-319e0a5fdb23",
   "metadata": {},
   "source": [
    "### 17-Problem Statement [Matrix Script]"
   ]
  },
  {
   "cell_type": "code",
   "execution_count": null,
   "id": "bc2a5f16-a1e7-4df9-b27b-6770f06b6063",
   "metadata": {},
   "outputs": [],
   "source": [
    "import math\n",
    "import os\n",
    "import random\n",
    "import re\n",
    "import sys\n",
    "\n",
    "\n",
    "\n",
    "\n",
    "\n",
    "n, m = map(int, input().strip().split())\n",
    "rows = [input() for _ in range(n)]\n",
    "line = [s[i] for i in range(m) for s in rows]\n",
    "print(re.sub(r'(?<=\\w)\\W+(?=\\w)', ' ', ''.join(line)))"
   ]
  },
  {
   "cell_type": "code",
   "execution_count": null,
   "id": "2affc3ac-f66f-4db3-93b7-2e0090f9d405",
   "metadata": {},
   "outputs": [],
   "source": []
  }
 ],
 "metadata": {
  "kernelspec": {
   "display_name": "Python 3 (ipykernel)",
   "language": "python",
   "name": "python3"
  },
  "language_info": {
   "codemirror_mode": {
    "name": "ipython",
    "version": 3
   },
   "file_extension": ".py",
   "mimetype": "text/x-python",
   "name": "python",
   "nbconvert_exporter": "python",
   "pygments_lexer": "ipython3",
   "version": "3.9.7"
  }
 },
 "nbformat": 4,
 "nbformat_minor": 5
}
