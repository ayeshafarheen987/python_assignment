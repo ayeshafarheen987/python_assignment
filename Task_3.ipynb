{
 "cells": [
  {
   "cell_type": "markdown",
   "id": "00ddf39d-8a32-474c-8ee8-0cd04df8eafd",
   "metadata": {},
   "source": [
    "# Programming Task - 3 (Python Maths)"
   ]
  },
  {
   "cell_type": "markdown",
   "id": "633b383b-35bc-41f5-949e-7ab24ddc7fb7",
   "metadata": {},
   "source": [
    "### 1-Problem Statement [Polar Coordinates]"
   ]
  },
  {
   "cell_type": "code",
   "execution_count": null,
   "id": "20a02bd8-3c09-4a3f-93f1-9823546f3b07",
   "metadata": {},
   "outputs": [],
   "source": [
    "import cmath\n",
    "n = complex(input())\n",
    "print(abs(n))\n",
    "print(cmath.phase(n))\n"
   ]
  },
  {
   "cell_type": "markdown",
   "id": "802a84df-b54e-4d1e-96b3-872ec6443537",
   "metadata": {},
   "source": [
    "### 2-Problem Statement [Find angle MBC]"
   ]
  },
  {
   "cell_type": "code",
   "execution_count": null,
   "id": "01db8e70-f2d5-41bd-8073-c6c81eabc63b",
   "metadata": {},
   "outputs": [],
   "source": [
    "from math import atan, degrees\n",
    "AB = int(input())\n",
    "BC = int(input())\n",
    "\n",
    "angleC = atan(AB/BC)\n",
    "print((round(degrees(angleC))),chr(176),sep='')"
   ]
  },
  {
   "cell_type": "markdown",
   "id": "1159c19e-c158-45ea-91b6-c6075b5fb961",
   "metadata": {},
   "source": [
    "### 3- Problem statement [Triangle Quest 2]"
   ]
  },
  {
   "cell_type": "code",
   "execution_count": null,
   "id": "1c212e03-5962-46df-8845-050fd55f6909",
   "metadata": {},
   "outputs": [],
   "source": [
    "for i in range(1,int(input())+1): #More than 2 lines will result in 0 score. Do not leave a blank line also\n",
    "    print(((10**i)//9)**2)\n"
   ]
  },
  {
   "cell_type": "markdown",
   "id": "45d9bafd-bdbb-44a2-bb89-eb9734e65e4e",
   "metadata": {},
   "source": [
    "### 4-Problem Statement [Mod Divmod]"
   ]
  },
  {
   "cell_type": "code",
   "execution_count": null,
   "id": "2b39b2c4-fbe1-4c16-a423-bae23ea049c2",
   "metadata": {},
   "outputs": [],
   "source": [
    "a = int(input())\n",
    "b = int(input())\n",
    "print(f'{a//b}\\n{a%b}\\n{divmod(a,b)}')"
   ]
  },
  {
   "cell_type": "markdown",
   "id": "4b9ccdcb-1cd8-4489-a8ff-523328dfbdbe",
   "metadata": {
    "tags": []
   },
   "source": [
    " ### 5- Problem Statement [Triangle Quest]"
   ]
  },
  {
   "cell_type": "code",
   "execution_count": null,
   "id": "f3527539-c887-43aa-a6c1-da188c0f3515",
   "metadata": {},
   "outputs": [],
   "source": [
    "for i in range(1,int(input())): #More than 2 lines will result in 0 score. Do not leave a blank line also\n",
    "    print(((10**i)*i)//9)"
   ]
  },
  {
   "cell_type": "markdown",
   "id": "e2a61b31-8432-43dc-981f-833ea514b46b",
   "metadata": {},
   "source": [
    "### 6-Problem Statement [Power -Mod Power]"
   ]
  },
  {
   "cell_type": "code",
   "execution_count": null,
   "id": "394c2c52-1c3e-408a-b115-9314d3ee6226",
   "metadata": {},
   "outputs": [],
   "source": [
    "for i in range(1,int(input())+1): #More than 2 lines will result in 0 score. Do not leave a blank line also\n",
    "    print(((10**i)//9)**2)\n"
   ]
  },
  {
   "cell_type": "markdown",
   "id": "5e50a6b6-e02c-4c4e-a81e-fd2303c2d687",
   "metadata": {},
   "source": [
    "### 7-Problem Statement [Integers come in all sizes]"
   ]
  },
  {
   "cell_type": "code",
   "execution_count": null,
   "id": "6e871e27-2c6a-4a21-8c27-76dea0247abb",
   "metadata": {},
   "outputs": [],
   "source": [
    "a =int(input())\n",
    "b =int(input())\n",
    "c =int(input())\n",
    "d =int(input())\n",
    "res = pow(a,b)+pow(c,d)\n",
    "print(res)"
   ]
  }
 ],
 "metadata": {
  "kernelspec": {
   "display_name": "Python 3 (ipykernel)",
   "language": "python",
   "name": "python3"
  },
  "language_info": {
   "codemirror_mode": {
    "name": "ipython",
    "version": 3
   },
   "file_extension": ".py",
   "mimetype": "text/x-python",
   "name": "python",
   "nbconvert_exporter": "python",
   "pygments_lexer": "ipython3",
   "version": "3.9.7"
  }
 },
 "nbformat": 4,
 "nbformat_minor": 5
}
