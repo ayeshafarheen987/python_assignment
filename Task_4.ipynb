{
 "cells": [
  {
   "cell_type": "markdown",
   "id": "797391ba-b4a1-425d-ba21-e1eb07b1e9ca",
   "metadata": {},
   "source": [
    "# Programming Task - 4 (Basic Python - Strings)"
   ]
  },
  {
   "cell_type": "markdown",
   "id": "352922e0-81f9-4ca2-bd53-c72df70eb30a",
   "metadata": {},
   "source": [
    "### 1-Problem Statement [swap case]"
   ]
  },
  {
   "cell_type": "code",
   "execution_count": null,
   "id": "270b7c23-535f-4a47-ac67-6ff7fe5f349f",
   "metadata": {},
   "outputs": [],
   "source": [
    "def swap_case(s):\n",
    "    return s.swapcase()\n",
    "\n",
    "if __name__ == '__main__':\n",
    "    s = input()\n",
    "    result = swap_case(s)\n",
    "    print(result)"
   ]
  },
  {
   "cell_type": "markdown",
   "id": "1c8335ca-2387-44ff-a0d0-f96f413bc4af",
   "metadata": {},
   "source": [
    "### 2-Problem statement [String Split and Join]"
   ]
  },
  {
   "cell_type": "code",
   "execution_count": null,
   "id": "768a5302-e0ac-4d99-a0ff-4840920fb552",
   "metadata": {},
   "outputs": [],
   "source": [
    "def split_and_join(line):\n",
    "    b = line.split(' ')\n",
    "    a ='-'.join(b)\n",
    "    return a\n",
    "    # write your code here\n",
    "\n",
    "if __name__ == '__main__':\n",
    "    line = input()\n",
    "    result = split_and_join(line)\n",
    "    print(result)"
   ]
  },
  {
   "cell_type": "markdown",
   "id": "3c04e38f-c40c-4f8d-9753-1451c4e50e25",
   "metadata": {},
   "source": [
    "### 3-Problem Statement [Whats your name?]"
   ]
  },
  {
   "cell_type": "code",
   "execution_count": null,
   "id": "8ac2a554-3afe-4687-b61f-09f0aee25506",
   "metadata": {},
   "outputs": [],
   "source": [
    "def print_full_name(first, last):\n",
    "    # Write your code here\n",
    "    print(f'Hello {first_name} {last_name}! You just delved into python.')\n",
    "\n",
    "if __name__ == '__main__':\n",
    "    first_name = input()\n",
    "    last_name = input()\n",
    "    print_full_name(first_name, last_name)"
   ]
  },
  {
   "cell_type": "markdown",
   "id": "98a4f1c1-0b94-4f10-bcee-14687340dd06",
   "metadata": {},
   "source": [
    "### 4-Problem Statement [Mutations]"
   ]
  },
  {
   "cell_type": "code",
   "execution_count": null,
   "id": "d9de1895-3a90-487c-9546-16a365507569",
   "metadata": {},
   "outputs": [],
   "source": [
    "def mutate_string(string, position, character):\n",
    "    l = string[:position]+character+string[position+1:]\n",
    "\n",
    "    return l\n",
    "\n",
    "if __name__ == '__main__':\n",
    "    s = input()\n",
    "    i, c = input().split()\n",
    "    s_new = mutate_string(s, int(i), c)\n",
    "    print(s_new)"
   ]
  },
  {
   "cell_type": "markdown",
   "id": "d280d251-d85a-4ed5-acec-4747cd234f6f",
   "metadata": {},
   "source": [
    "### 5-problem Statement [Find a String]"
   ]
  },
  {
   "cell_type": "code",
   "execution_count": null,
   "id": "f164f13b-52c0-4908-aa8e-62b25943badc",
   "metadata": {},
   "outputs": [],
   "source": [
    "def count_substring(string, sub_string):\n",
    "    count = 0\n",
    "    for i in range(len(string)):\n",
    "        if string[i:i+len(sub_string)] == sub_string:\n",
    "            count += 1\n",
    "    return count\n",
    "\n",
    "if __name__ == '__main__':\n",
    "    string = input().strip()\n",
    "    sub_string = input().strip()\n",
    "    \n",
    "    count = count_substring(string, sub_string)\n",
    "    print(count)"
   ]
  },
  {
   "cell_type": "markdown",
   "id": "9130968c-c83c-4254-be79-2618f96e61d7",
   "metadata": {},
   "source": [
    "### 6-problem Statement [String validators]"
   ]
  },
  {
   "cell_type": "code",
   "execution_count": null,
   "id": "95a4bcc4-ec9c-4fda-9557-a9d2dd86099b",
   "metadata": {},
   "outputs": [],
   "source": [
    "if __name__ == '__main__':\n",
    "    s = input()\n",
    "    print(any (i.isalnum() for i in s))\n",
    "    print(any(i.isalpha() for i in s))\n",
    "    print(any(i.isdigit() for i in s))\n",
    "    print(any(i.islower() for i in s))\n",
    "    print(any(i.isupper() for i in s))\n",
    "    "
   ]
  },
  {
   "cell_type": "markdown",
   "id": "286c3839-626f-4281-a512-afdadea39303",
   "metadata": {},
   "source": [
    "### 7-Problem Statement [text Alignment]"
   ]
  },
  {
   "cell_type": "code",
   "execution_count": null,
   "id": "8fbbda52-ce8e-4687-b79b-9af953a68c95",
   "metadata": {},
   "outputs": [],
   "source": [
    "#Replace all ______ with rjust, ljust or center. \n",
    "\n",
    "thickness = int(input()) #This must be an odd number\n",
    "c = 'H'\n",
    "\n",
    "#Top Cone\n",
    "for i in range(thickness):\n",
    "    print((c*i).rjust(thickness-1)+c+(c*i).ljust(thickness-1))\n",
    "\n",
    "#Top Pillars\n",
    "for i in range(thickness+1):\n",
    "    print((c*thickness).center(thickness*2)+(c*thickness).center(thickness*6))\n",
    "\n",
    "#Middle Belt\n",
    "for i in range((thickness+1)//2):\n",
    "    print((c*thickness*5).center(thickness*6))    \n",
    "\n",
    "#Bottom Pillars\n",
    "for i in range(thickness+1):\n",
    "    print((c*thickness).center(thickness*2)+(c*thickness).center(thickness*6))    \n",
    "\n",
    "#Bottom Cone\n",
    "for i in range(thickness):\n",
    "    print(((c*(thickness-i-1)).rjust(thickness)+c+(c*(thickness-i-1)).ljust(thickness)).rjust(thickness*6))\n"
   ]
  },
  {
   "cell_type": "markdown",
   "id": "a0e1c74c-c4ba-4871-a870-75ff8b73b6e3",
   "metadata": {},
   "source": [
    "### 8-problem Statement [Text Wrap]"
   ]
  },
  {
   "cell_type": "code",
   "execution_count": null,
   "id": "acc13080-9a59-4dff-acbc-0ac18cdd4950",
   "metadata": {},
   "outputs": [],
   "source": [
    "import textwrap\n",
    "\n",
    "def wrap(string, max_width):\n",
    "    warpper = textwrap.TextWrapper(width=max_width)\n",
    "    text = warpper.wrap(text= string)\n",
    "    return '\\n'.join(text)\n",
    "\n",
    "if __name__ == '__main__':\n",
    "    string, max_width = input(), int(input())\n",
    "    result = wrap(string, max_width)\n",
    "    print(result)"
   ]
  },
  {
   "cell_type": "markdown",
   "id": "92e2bb4a-b22f-44f6-a1b8-185a0e6a3f77",
   "metadata": {},
   "source": [
    "### 9-Problem Statement [Designer Door Mat]"
   ]
  },
  {
   "cell_type": "code",
   "execution_count": 8,
   "id": "5da3fc58-5fb4-4660-96c9-da3296fb06a7",
   "metadata": {},
   "outputs": [
    {
     "name": "stdin",
     "output_type": "stream",
     "text": [
      " 7 21\n"
     ]
    },
    {
     "name": "stdout",
     "output_type": "stream",
     "text": [
      "---------.|.---------\n",
      "------.|..|..|.------\n",
      "---.|..|..|..|..|.---\n",
      "-------WELCOME-------\n",
      "---.|..|..|..|..|.---\n",
      "------.|..|..|.------\n",
      "---------.|.---------\n"
     ]
    }
   ],
   "source": [
    "n,m = map(int,input().split())\n",
    "for i in range(1,n,2):\n",
    "    print((i*'.|.').center(m,'-'))\n",
    "print('WELCOME'.center(m,'-'))\n",
    "for j in range(n-2,-1,-2):\n",
    "    print((j*'.|.').center(m,'-'))"
   ]
  },
  {
   "cell_type": "markdown",
   "id": "15068a1a-1f23-48c3-a631-fb779d567044",
   "metadata": {},
   "source": [
    "### 10- Problem Statement [String Formatting]"
   ]
  },
  {
   "cell_type": "code",
   "execution_count": null,
   "id": "5edd1cae-7a45-43ae-9d1f-cd199ef2246e",
   "metadata": {},
   "outputs": [],
   "source": [
    "def print_formatted(number):\n",
    "    # your code goes here\n",
    "    max = len(str(bin(n)[2:]))\n",
    "    \n",
    "    \n",
    "    def format_str(i):\n",
    "        return str(i).rjust(max,' ') \n",
    "    \n",
    "    for i in range(1,n+1):\n",
    "        d = format_str(i)\n",
    "        o = format_str(oct(i)[2:])\n",
    "        h = format_str(hex(i)[2:])\n",
    "        b = format_str(bin(i)[2:])   \n",
    "        \n",
    "        print(f'{d} {o} {h} {b}')\n",
    "\n",
    "if __name__ == '__main__':"
   ]
  },
  {
   "cell_type": "markdown",
   "id": "d0ff1f1b-4653-47a2-8645-a06bfbaf8cfc",
   "metadata": {},
   "source": [
    "### 11-Problem Statement [Alphabet Rangoli]"
   ]
  },
  {
   "cell_type": "code",
   "execution_count": 12,
   "id": "e0bf810c-aeb2-488a-ab75-14ed5dca3233",
   "metadata": {},
   "outputs": [
    {
     "name": "stdin",
     "output_type": "stream",
     "text": [
      " 5\n"
     ]
    },
    {
     "name": "stdout",
     "output_type": "stream",
     "text": [
      "--------e--------\n",
      "------e-d-e------\n",
      "----e-d-c-d-e----\n",
      "--e-d-c-b-c-d-e--\n",
      "e-d-c-b-a-b-c-d-e\n",
      "--e-d-c-b-c-d-e--\n",
      "----e-d-c-d-e----\n",
      "------e-d-e------\n",
      "--------e--------\n"
     ]
    }
   ],
   "source": [
    "import string\n",
    "def print_rangoli(size):\n",
    "    alphabet = string.ascii_lowercase[:size]\n",
    "    width = 4*size-3\n",
    "    \n",
    "    for i in range(size-1,0,-1):\n",
    "        l = '-'.join(alphabet[size-1:i:-1]+alphabet[i:size])\n",
    "        print(l.center(width,'-'))\n",
    "        \n",
    "        \n",
    "    for j in range(size):\n",
    "        l = '-'.join(alphabet[size-1:j:-1]+alphabet[j:size])\n",
    "        print(l.center(width,'-'))\n",
    "\n",
    "\n",
    "if __name__ == '__main__':\n",
    "    n = int(input())\n",
    "    print_rangoli(n)"
   ]
  },
  {
   "cell_type": "markdown",
   "id": "eefbadda-7f2d-462b-bb96-50a396f1a648",
   "metadata": {},
   "source": [
    "### 12-problem statement [Capitalize]"
   ]
  },
  {
   "cell_type": "code",
   "execution_count": null,
   "id": "552522da-c105-4baa-9d9a-f25e66e9ca9d",
   "metadata": {
    "tags": []
   },
   "outputs": [],
   "source": [
    "#!/bin/python3\n",
    "\n",
    "import math\n",
    "import os\n",
    "import random\n",
    "import re\n",
    "import sys\n",
    "\n",
    "# Complete the solve function below.\n",
    "def solve(s):\n",
    "    \n",
    "    words = s.split(' ')\n",
    "    result = []\n",
    "    for i in words:\n",
    "        result.append(i.capitalize())\n",
    "    s = ' '.join(result)\n",
    "    return(s)\n",
    "\n",
    "if __name__ == '__main__':\n",
    "    fptr = open(os.environ['OUTPUT_PATH'], 'w')\n",
    "\n",
    "    s = input()\n",
    "\n",
    "    result = solve(s)\n",
    "\n",
    "    fptr.write(result + '\\n')\n",
    "\n",
    "    fptr.close()\n"
   ]
  },
  {
   "cell_type": "markdown",
   "id": "4cdf4251-8b2b-466e-874c-972762af54d8",
   "metadata": {},
   "source": [
    "### 13 -Problem statement [The minion Game]"
   ]
  },
  {
   "cell_type": "code",
   "execution_count": 16,
   "id": "1681dc54-f3ea-4981-b8a7-ea6ce15ff07d",
   "metadata": {},
   "outputs": [
    {
     "name": "stdin",
     "output_type": "stream",
     "text": [
      " BANANA\n"
     ]
    },
    {
     "name": "stdout",
     "output_type": "stream",
     "text": [
      "Staurt 12\n"
     ]
    }
   ],
   "source": [
    "def minion_game(s):\n",
    "    staurt = 0\n",
    "    kevin = 0\n",
    "    for i in range(len(s)):\n",
    "        if s[i] in {'A','E','I','O','U'}:\n",
    "            kevin+=(len(s)-i)\n",
    "        else:\n",
    "            staurt += (len(s)-i)\n",
    "\n",
    "    if staurt == kevin:\n",
    "        print('Draw')\n",
    "    elif staurt > kevin:\n",
    "        print('Staurt',staurt)\n",
    "    else:\n",
    "        print('Kevin',kevin)\n",
    "\n",
    "if __name__ == '__main__':\n",
    "    s = input()\n",
    "    minion_game(s)"
   ]
  },
  {
   "cell_type": "markdown",
   "id": "19c4dd11-12dd-4040-a147-1efa9522363a",
   "metadata": {},
   "source": [
    "### 14-Problem statement [Merge the Tools]"
   ]
  },
  {
   "cell_type": "code",
   "execution_count": 19,
   "id": "c0003fe1-18bd-4d97-a0bc-2021344e8c46",
   "metadata": {},
   "outputs": [
    {
     "name": "stdin",
     "output_type": "stream",
     "text": [
      " AABCAAADA\n",
      " 3\n"
     ]
    },
    {
     "name": "stdout",
     "output_type": "stream",
     "text": [
      "AB\n",
      "CA\n",
      "AD\n"
     ]
    }
   ],
   "source": [
    "def merge_the_tools(string, k):\n",
    "    n = len(string)\n",
    "    if n%k != 0:\n",
    "        raise ValueError\n",
    "    if k>n :\n",
    "        raise ValueError\n",
    "    for i in range(0,n,k):\n",
    "        l = []\n",
    "        for j in string[i:i+k]:\n",
    "            if j not in l:\n",
    "                l.append(j)\n",
    "        print(''.join(l))\n",
    "\n",
    "\n",
    "if __name__ == '__main__':\n",
    "    string, k = input(), int(input())\n",
    "    merge_the_tools(string, k)"
   ]
  },
  {
   "cell_type": "code",
   "execution_count": null,
   "id": "9b1af325-2059-4d4e-9069-5585f1888cf5",
   "metadata": {},
   "outputs": [],
   "source": []
  }
 ],
 "metadata": {
  "kernelspec": {
   "display_name": "Python 3 (ipykernel)",
   "language": "python",
   "name": "python3"
  },
  "language_info": {
   "codemirror_mode": {
    "name": "ipython",
    "version": 3
   },
   "file_extension": ".py",
   "mimetype": "text/x-python",
   "name": "python",
   "nbconvert_exporter": "python",
   "pygments_lexer": "ipython3",
   "version": "3.9.7"
  }
 },
 "nbformat": 4,
 "nbformat_minor": 5
}
